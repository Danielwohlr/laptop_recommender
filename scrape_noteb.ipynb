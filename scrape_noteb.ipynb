{
 "cells": [
  {
   "cell_type": "code",
   "execution_count": 1,
   "metadata": {},
   "outputs": [],
   "source": [
    "from selenium import webdriver\n",
    "from selenium.webdriver.common.by import By\n",
    "import time\n",
    "import logging\n",
    "\n",
    "# Set up logging\n",
    "logging.basicConfig(level=logging.INFO, format=\"%(asctime)s - %(message)s\")\n"
   ]
  },
  {
   "cell_type": "code",
   "execution_count": 2,
   "metadata": {},
   "outputs": [],
   "source": [
    "# WebDriver setup (ensure the path points to your WebDriver)\n",
    "driver_path = \"/home/wohldan/Downloads/chromedriver-linux64/chromedriver\"  # Replace with your ChromeDriver path\n",
    "BASE_URL = \"https://noteb.com/\"\n",
    "START_URL = f\"{BASE_URL}?search/search.php?browse_by=budget&sort_by=value\"  # Example: Budget laptops\n"
   ]
  },
  {
   "cell_type": "code",
   "execution_count": 3,
   "metadata": {},
   "outputs": [],
   "source": [
    "from selenium import webdriver\n",
    "from selenium.webdriver.chrome.service import Service\n"
   ]
  },
  {
   "cell_type": "code",
   "execution_count": 4,
   "metadata": {},
   "outputs": [],
   "source": [
    "\n",
    "def extract_laptop_urls_with_selenium(url, driver_path):\n",
    "    \"\"\"\n",
    "    Extract laptop URLs using Selenium to handle JavaScript-rendered content.\n",
    "    \"\"\"\n",
    "    logging.info(f\"Opening browser and navigating to {url}\")\n",
    "    service = Service(driver_path)\n",
    "    driver = webdriver.Chrome(service=service)\n",
    "    driver.get(url)\n",
    "    \n",
    "    # Wait for the page to load completely\n",
    "    time.sleep(5)  # Adjust this based on your connection speed and page complexity\n",
    "    \n",
    "    # Extract all elements with \"onmousedown\" containing \"OpenPage\"\n",
    "    elements = driver.find_elements(By.CSS_SELECTOR, \"div.searchresult-content\")\n",
    "    laptop_urls = []\n",
    "    \n",
    "    for elem in elements:\n",
    "        onmousedown = elem.get_attribute(\"onmousedown\")\n",
    "        if onmousedown and \"OpenPage\" in onmousedown:\n",
    "            # Extract the URL inside the 'OpenPage' function\n",
    "            start = onmousedown.find(\"('\") + 2\n",
    "            end = onmousedown.find(\"',event\")\n",
    "            if start != -1 and end != -1:\n",
    "                laptop_url = BASE_URL + '?' + onmousedown[start:end]\n",
    "                laptop_urls.append(laptop_url)\n",
    "    \n",
    "    logging.info(f\"Found {len(laptop_urls)} laptop URLs\")\n",
    "    driver.quit()\n",
    "    return laptop_urls, driver"
   ]
  },
  {
   "cell_type": "code",
   "execution_count": 5,
   "metadata": {},
   "outputs": [
    {
     "name": "stderr",
     "output_type": "stream",
     "text": [
      "2024-11-29 16:52:55,990 - Opening browser and navigating to https://noteb.com/?search/search.php?browse_by=budget&sort_by=value\n",
      "2024-11-29 16:53:03,829 - Found 20 laptop URLs\n"
     ]
    }
   ],
   "source": [
    "laptop_urls, driver = extract_laptop_urls_with_selenium(START_URL,driver_path)"
   ]
  },
  {
   "cell_type": "code",
   "execution_count": 6,
   "metadata": {},
   "outputs": [
    {
     "data": {
      "text/plain": [
       "'https://noteb.com/?model/model.php?conf=5027952706180836093_4298&ex=USD'"
      ]
     },
     "execution_count": 6,
     "metadata": {},
     "output_type": "execute_result"
    }
   ],
   "source": [
    "laptop_urls[0]"
   ]
  },
  {
   "cell_type": "code",
   "execution_count": 11,
   "metadata": {},
   "outputs": [],
   "source": [
    "from selenium import webdriver\n",
    "from selenium.webdriver.common.by import By\n",
    "import logging\n",
    "\n",
    "def scrape_laptop_data(url, driver_path):\n",
    "    \"\"\"\n",
    "    Scrape data from an individual laptop page.\n",
    "    Args:\n",
    "        url (str): URL of the laptop page.\n",
    "        driver (webdriver.Chrome): Selenium WebDriver instance.\n",
    "\n",
    "    Returns:\n",
    "        dict: A dictionary containing the laptop specifications.\n",
    "    \"\"\"\n",
    "    logging.info(f\"Scraping data from {url}\")\n",
    "    service = Service(driver_path)\n",
    "    driver = webdriver.Chrome(service=service)\n",
    "    # Navigate to the URL\n",
    "    driver.get(url)\n",
    "\n",
    "    # Initialize dictionary to store the specifications\n",
    "    laptop_data = {\"URL\": url}\n",
    "\n",
    "    # Find the specifications accordion\n",
    "    try:\n",
    "        specifications_section = driver.find_element(By.ID, \"specificationsAccordion\")\n",
    "    except Exception as e:\n",
    "        logging.error(f\"Specifications section not found: {e}\")\n",
    "        return laptop_data\n",
    "\n",
    "    # Extract data from the first and second columns\n",
    "    for col_id in [\"firstCol\", \"secondCol\"]:\n",
    "        try:\n",
    "            column = specifications_section.find_element(By.ID, col_id)\n",
    "            # Find all specification cards within the column\n",
    "            spec_cards = column.find_elements(By.CLASS_NAME, \"specification-card\")\n",
    "            for card in spec_cards:\n",
    "                # Extract key-value pairs for each specification\n",
    "                try:\n",
    "                    key = card.find_element(By.TAG_NAME, \"h4\").text.strip()  # Adjust to match the actual HTML structure\n",
    "                    value = card.find_element(By.TAG_NAME, \"p\").text.strip()  # Adjust to match the actual HTML structure\n",
    "                    laptop_data[key] = value\n",
    "                except Exception as e:\n",
    "                    logging.warning(f\"Failed to extract key-value from a card in {col_id}: {e}\")\n",
    "        except Exception as e:\n",
    "            logging.warning(f\"Failed to process column {col_id}: {e}\")\n",
    "\n",
    "    return laptop_data\n"
   ]
  },
  {
   "cell_type": "code",
   "execution_count": 12,
   "metadata": {},
   "outputs": [
    {
     "name": "stderr",
     "output_type": "stream",
     "text": [
      "2024-11-29 16:54:58,422 - Scraping data from https://noteb.com/?model/model.php?conf=5027952706180836093_4298&ex=USD\n",
      "2024-11-29 16:55:01,184 - Specifications section not found: Message: no such element: Unable to locate element: {\"method\":\"css selector\",\"selector\":\"[id=\"specificationsAccordion\"]\"}\n",
      "  (Session info: chrome=131.0.6778.85); For documentation on this error, please visit: https://www.selenium.dev/documentation/webdriver/troubleshooting/errors#no-such-element-exception\n",
      "Stacktrace:\n",
      "#0 0x57a0b55a931a <unknown>\n",
      "#1 0x57a0b50bf6e0 <unknown>\n",
      "#2 0x57a0b510e3e6 <unknown>\n",
      "#3 0x57a0b510e681 <unknown>\n",
      "#4 0x57a0b5153b04 <unknown>\n",
      "#5 0x57a0b513248d <unknown>\n",
      "#6 0x57a0b5150ed7 <unknown>\n",
      "#7 0x57a0b5132203 <unknown>\n",
      "#8 0x57a0b5100cc0 <unknown>\n",
      "#9 0x57a0b5101c9e <unknown>\n",
      "#10 0x57a0b5576d0b <unknown>\n",
      "#11 0x57a0b557ac92 <unknown>\n",
      "#12 0x57a0b5563b3c <unknown>\n",
      "#13 0x57a0b557b807 <unknown>\n",
      "#14 0x57a0b55490df <unknown>\n",
      "#15 0x57a0b5598578 <unknown>\n",
      "#16 0x57a0b5598740 <unknown>\n",
      "#17 0x57a0b55a8196 <unknown>\n",
      "#18 0x745ce2694ac3 <unknown>\n",
      "\n"
     ]
    },
    {
     "data": {
      "text/plain": [
       "{'URL': 'https://noteb.com/?model/model.php?conf=5027952706180836093_4298&ex=USD'}"
      ]
     },
     "execution_count": 12,
     "metadata": {},
     "output_type": "execute_result"
    }
   ],
   "source": [
    "scrape_laptop_data(laptop_urls[0], driver_path)"
   ]
  },
  {
   "cell_type": "code",
   "execution_count": null,
   "metadata": {},
   "outputs": [],
   "source": []
  },
  {
   "cell_type": "code",
   "execution_count": 5,
   "metadata": {},
   "outputs": [],
   "source": [
    "# Main function to scrape laptops by class\n",
    "def scrape_laptops_by_class():\n",
    "    \"\"\"\n",
    "    Main function to scrape laptops for all classes and save the data.\n",
    "    \"\"\"\n",
    "    all_laptops = []\n",
    "    for laptop_class in CLASSES:\n",
    "        # Fetch laptop links for the current class\n",
    "        links = fetch_laptop_links(laptop_class)\n",
    "        \n",
    "        for link in links:\n",
    "            laptop_data = scrape_laptop_data(link)\n",
    "            if laptop_data:\n",
    "                laptop_data[\"Class\"] = laptop_class\n",
    "                all_laptops.append(laptop_data)\n",
    "            time.sleep(1)  # Be polite to the server\n",
    "        \n",
    "        time.sleep(2)  # Avoid hammering the server between classes\n",
    "    \n",
    "    # Save the data to a CSV\n",
    "    df = pd.DataFrame(all_laptops)\n",
    "    df.to_csv(\"laptops_data.csv\", index=False)\n",
    "    logging.info(\"Scraping completed. Data saved to 'laptops_data.csv'.\")\n"
   ]
  },
  {
   "cell_type": "code",
   "execution_count": 7,
   "metadata": {},
   "outputs": [
    {
     "name": "stderr",
     "output_type": "stream",
     "text": [
      "2024-11-29 15:40:27,873 - Fetching laptops for class: budget from https://noteb.com/?search/search.php?browse_by=budget&sort_by=value\n",
      "2024-11-29 15:40:28,701 - Found 0 laptops for class: budget\n",
      "2024-11-29 15:40:30,703 - Fetching laptops for class: mainstream from https://noteb.com/?search/search.php?browse_by=mainstream&sort_by=value\n",
      "2024-11-29 15:40:31,360 - Found 0 laptops for class: mainstream\n",
      "2024-11-29 15:41:02,845 - Fetching laptops for class: ultraportable from https://noteb.com/?search/search.php?browse_by=ultraportable&sort_by=value\n",
      "2024-11-29 15:41:03,714 - Found 0 laptops for class: ultraportable\n",
      "2024-11-29 15:42:07,296 - Fetching laptops for class: business from https://noteb.com/?search/search.php?browse_by=business&sort_by=value\n",
      "2024-11-29 15:42:08,021 - Found 0 laptops for class: business\n",
      "2024-11-29 15:42:10,023 - Fetching laptops for class: gaming from https://noteb.com/?search/search.php?browse_by=gaming&sort_by=value\n",
      "2024-11-29 15:42:10,790 - Found 0 laptops for class: gaming\n",
      "2024-11-29 15:42:12,792 - Fetching laptops for class: professional from https://noteb.com/?search/search.php?browse_by=professional&sort_by=value\n",
      "2024-11-29 15:42:13,454 - Found 0 laptops for class: professional\n",
      "2024-11-29 15:42:15,460 - Scraping completed. Data saved to 'laptops_data.csv'.\n"
     ]
    }
   ],
   "source": [
    "scrape_laptops_by_class()"
   ]
  },
  {
   "cell_type": "code",
   "execution_count": null,
   "metadata": {},
   "outputs": [],
   "source": []
  }
 ],
 "metadata": {
  "kernelspec": {
   "display_name": "laptop_recommender",
   "language": "python",
   "name": "python3"
  },
  "language_info": {
   "codemirror_mode": {
    "name": "ipython",
    "version": 3
   },
   "file_extension": ".py",
   "mimetype": "text/x-python",
   "name": "python",
   "nbconvert_exporter": "python",
   "pygments_lexer": "ipython3",
   "version": "3.11.10"
  }
 },
 "nbformat": 4,
 "nbformat_minor": 2
}
